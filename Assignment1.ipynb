{
 "cells": [
  {
   "cell_type": "code",
   "execution_count": 1,
   "id": "02844416-e9c2-4875-9ab0-f91e013a62ec",
   "metadata": {},
   "outputs": [
    {
     "name": "stdout",
     "output_type": "stream",
     "text": [
      "Hope AI\n"
     ]
    }
   ],
   "source": [
    "#Print statement\n",
    "print(\"Hope AI\")"
   ]
  },
  {
   "cell_type": "code",
   "execution_count": 3,
   "id": "b35b1c4e-38d5-4cd4-8c27-0f4054dc7616",
   "metadata": {},
   "outputs": [
    {
     "name": "stdin",
     "output_type": "stream",
     "text": [
      "Enter your Institue name ? Hope AI\n"
     ]
    }
   ],
   "source": [
    "#Buy Input\n",
    "a=input(\"Enter your Institue name ?\")"
   ]
  },
  {
   "cell_type": "code",
   "execution_count": 5,
   "id": "260034b7-b8ba-41b7-9ed7-dedbdb421764",
   "metadata": {},
   "outputs": [
    {
     "name": "stdin",
     "output_type": "stream",
     "text": [
      "Enter your name Mohan\n",
      "Enter you age 24\n",
      "Enter your school name Mary Matha\n",
      "Enter your Degree BE\n"
     ]
    }
   ],
   "source": [
    "#Buy inputs\n",
    "a=input(\"Enter your name\")\n",
    "b=input(\"Enter you age\")\n",
    "c=input(\"Enter your school name\")\n",
    "d=input(\"Enter your Degree\")"
   ]
  },
  {
   "cell_type": "code",
   "execution_count": 7,
   "id": "f6f3c81d-7dbe-4a13-aae9-6f737eca858e",
   "metadata": {},
   "outputs": [
    {
     "name": "stdout",
     "output_type": "stream",
     "text": [
      "77\n"
     ]
    }
   ],
   "source": [
    "#Addition\n",
    "a=43\n",
    "b=34\n",
    "add=a+b\n",
    "print(add)"
   ]
  },
  {
   "cell_type": "code",
   "execution_count": 9,
   "id": "86512a49-30a5-4cea-9c59-bd17b44cb016",
   "metadata": {},
   "outputs": [
    {
     "name": "stdout",
     "output_type": "stream",
     "text": [
      "9\n"
     ]
    }
   ],
   "source": [
    "#Subraction\n",
    "a=43\n",
    "b=34\n",
    "sub=a-b\n",
    "print(sub)"
   ]
  },
  {
   "cell_type": "code",
   "execution_count": 11,
   "id": "7a8729cf-be97-453f-bdb2-52eaf7ee5bc7",
   "metadata": {},
   "outputs": [
    {
     "name": "stdout",
     "output_type": "stream",
     "text": [
      "6111\n"
     ]
    }
   ],
   "source": [
    "#Multiply\n",
    "a=63\n",
    "b=97\n",
    "mul=a*b\n",
    "print(mul)"
   ]
  },
  {
   "cell_type": "code",
   "execution_count": 13,
   "id": "919e50ff-1c7c-446a-bfc8-c74b81d22349",
   "metadata": {},
   "outputs": [
    {
     "name": "stdout",
     "output_type": "stream",
     "text": [
      "2.032258064516129\n"
     ]
    }
   ],
   "source": [
    "#Division\n",
    "a=63\n",
    "b=31\n",
    "div=a/b\n",
    "print(div)"
   ]
  },
  {
   "cell_type": "code",
   "execution_count": 15,
   "id": "866e10f7-ee66-481c-8202-d5ee87b5f307",
   "metadata": {},
   "outputs": [
    {
     "name": "stdout",
     "output_type": "stream",
     "text": [
      "2\n"
     ]
    }
   ],
   "source": [
    "#Floor division\n",
    "a=63\n",
    "b=31\n",
    "div=a//b\n",
    "print(div)"
   ]
  },
  {
   "cell_type": "code",
   "execution_count": 21,
   "id": "b166b36d-d17c-4a36-998a-01d4ffd754b2",
   "metadata": {},
   "outputs": [
    {
     "name": "stdout",
     "output_type": "stream",
     "text": [
      "14\n"
     ]
    }
   ],
   "source": [
    "#Modulo\n",
    "a=76\n",
    "b=31\n",
    "mod=a%b\n",
    "print(mod)"
   ]
  },
  {
   "cell_type": "code",
   "execution_count": 35,
   "id": "545aaccd-2ea5-43f3-a65c-5d6a81e9884d",
   "metadata": {},
   "outputs": [
    {
     "name": "stdout",
     "output_type": "stream",
     "text": [
      "256\n"
     ]
    }
   ],
   "source": [
    "#Power\n",
    "a=4\n",
    "b=4\n",
    "power=a**b\n",
    "print(power)"
   ]
  },
  {
   "cell_type": "code",
   "execution_count": null,
   "id": "049a84d5-0a7d-478c-9e85-b5832a6458b4",
   "metadata": {},
   "outputs": [],
   "source": []
  }
 ],
 "metadata": {
  "kernelspec": {
   "display_name": "Python 3 (ipykernel)",
   "language": "python",
   "name": "python3"
  },
  "language_info": {
   "codemirror_mode": {
    "name": "ipython",
    "version": 3
   },
   "file_extension": ".py",
   "mimetype": "text/x-python",
   "name": "python",
   "nbconvert_exporter": "python",
   "pygments_lexer": "ipython3",
   "version": "3.12.4"
  }
 },
 "nbformat": 4,
 "nbformat_minor": 5
}
