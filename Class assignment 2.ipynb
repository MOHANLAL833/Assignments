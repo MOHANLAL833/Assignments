{
 "cells": [
  {
   "cell_type": "code",
   "execution_count": 15,
   "id": "c2f649e0-a16b-4da7-a72e-28da15966c94",
   "metadata": {},
   "outputs": [],
   "source": [
    "from multi import multiclass"
   ]
  },
  {
   "cell_type": "code",
   "execution_count": 19,
   "id": "edf2c2cd-5624-4fde-aa86-bdba28ff3749",
   "metadata": {},
   "outputs": [
    {
     "name": "stdin",
     "output_type": "stream",
     "text": [
      "Enter the number 100\n"
     ]
    },
    {
     "name": "stdout",
     "output_type": "stream",
     "text": [
      "100 is even\n"
     ]
    }
   ],
   "source": [
    "multiclass.oddeven()"
   ]
  },
  {
   "cell_type": "code",
   "execution_count": 21,
   "id": "1c747f65-9d48-43d5-9e2b-dddb07534213",
   "metadata": {},
   "outputs": [
    {
     "name": "stdin",
     "output_type": "stream",
     "text": [
      "Enter your Gender Male\n",
      "Enter your age 35\n"
     ]
    },
    {
     "name": "stdout",
     "output_type": "stream",
     "text": [
      "You are eligible for marriage\n"
     ]
    }
   ],
   "source": [
    "multiclass.marriage()"
   ]
  },
  {
   "cell_type": "code",
   "execution_count": 23,
   "id": "d27d62cf-acc4-4889-8184-71fb5992cef3",
   "metadata": {},
   "outputs": [
    {
     "name": "stdin",
     "output_type": "stream",
     "text": [
      "Subject1: 98\n",
      "Subject2: 79\n",
      "Subject3: 89\n",
      "Subject4: 100\n",
      "Subject5: 88\n"
     ]
    },
    {
     "name": "stdout",
     "output_type": "stream",
     "text": [
      "Total 454\n",
      "Percentage 90.8\n"
     ]
    }
   ],
   "source": [
    "multiclass.percent()"
   ]
  },
  {
   "cell_type": "code",
   "execution_count": 25,
   "id": "60e4ab53-d0a6-41e9-a2f7-fcba7740d5ac",
   "metadata": {},
   "outputs": [
    {
     "name": "stdin",
     "output_type": "stream",
     "text": [
      "Height: 10\n",
      "breadth: 10\n"
     ]
    },
    {
     "name": "stdout",
     "output_type": "stream",
     "text": [
      "Area formula: (Height*Breadth)/2\n",
      "Area of Area of Triangle: 50.0\n"
     ]
    },
    {
     "data": {
      "text/plain": [
       "50.0"
      ]
     },
     "execution_count": 25,
     "metadata": {},
     "output_type": "execute_result"
    }
   ],
   "source": [
    "multiclass.area()"
   ]
  },
  {
   "cell_type": "code",
   "execution_count": null,
   "id": "2c5f6eac-131d-4f8b-963e-c820baff2698",
   "metadata": {},
   "outputs": [],
   "source": []
  }
 ],
 "metadata": {
  "kernelspec": {
   "display_name": "Python 3 (ipykernel)",
   "language": "python",
   "name": "python3"
  },
  "language_info": {
   "codemirror_mode": {
    "name": "ipython",
    "version": 3
   },
   "file_extension": ".py",
   "mimetype": "text/x-python",
   "name": "python",
   "nbconvert_exporter": "python",
   "pygments_lexer": "ipython3",
   "version": "3.12.4"
  }
 },
 "nbformat": 4,
 "nbformat_minor": 5
}
