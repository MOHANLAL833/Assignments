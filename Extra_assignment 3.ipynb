{
  "nbformat": 4,
  "nbformat_minor": 0,
  "metadata": {
    "colab": {
      "provenance": []
    },
    "kernelspec": {
      "name": "python3",
      "display_name": "Python 3"
    },
    "language_info": {
      "name": "python"
    }
  },
  "cells": [
    {
      "cell_type": "code",
      "source": [
        "# print 'CORRECT' if i == 10\n",
        "i=int(input(\"Value\"))\n",
        "if(i==10):\n",
        "  print(\"Correct\")\n",
        "else:\n",
        "  print(\"Wrong\")"
      ],
      "metadata": {
        "colab": {
          "base_uri": "https://localhost:8080/"
        },
        "id": "FE_DOZB4Lf5-",
        "outputId": "a14d10b5-2ac8-4d1f-ace5-0813709aa684"
      },
      "execution_count": 8,
      "outputs": [
        {
          "output_type": "stream",
          "name": "stdout",
          "text": [
            "Value100\n",
            "Wrong\n"
          ]
        }
      ]
    },
    {
      "cell_type": "code",
      "source": [
        "# Check the password, using if and else\n",
        "\n",
        "paa=\"HOPE@123\"\n",
        "pas=input(\"Enter the password\")\n",
        "if(pas==paa):\n",
        "  print(\"The password is correct\")\n",
        "else:\n",
        "  print(\"The password is wrong\")"
      ],
      "metadata": {
        "colab": {
          "base_uri": "https://localhost:8080/"
        },
        "id": "h1isSCgCL3l6",
        "outputId": "f58c695d-dad7-4786-d7d2-fff41a5b22a2"
      },
      "execution_count": 7,
      "outputs": [
        {
          "output_type": "stream",
          "name": "stdout",
          "text": [
            "Enter the passwordHOPE@123\n",
            "The password is correct\n"
          ]
        }
      ]
    },
    {
      "cell_type": "code",
      "source": [
        "# Catagory the people by their age like children, adult, citizen, senior citizen\n",
        "\n",
        "age=int(input(\"Enter your age\"))\n",
        "if(age<18):\n",
        "  print(\"Children\")\n",
        "elif(age<25):\n",
        "  print(\"Adult\")\n",
        "elif(age<35):\n",
        "  print(\"Citizen\")\n",
        "else:\n",
        " print(\"Senior Citizen\")\n"
      ],
      "metadata": {
        "colab": {
          "base_uri": "https://localhost:8080/"
        },
        "id": "kV9PkYPgM9wL",
        "outputId": "9908d5cc-3a88-4297-8315-880f52dd2eef"
      },
      "execution_count": 18,
      "outputs": [
        {
          "output_type": "stream",
          "name": "stdout",
          "text": [
            "Enter your age20\n",
            "Adult\n"
          ]
        }
      ]
    },
    {
      "cell_type": "code",
      "source": [
        "# Find whether given number is positive or negative\n",
        "\n",
        "num=int(input(\"Enter a number\"))\n",
        "if(num<0):\n",
        "  print(\"The number is negative\")\n",
        "else:\n",
        "  print(\"The number is positive\")"
      ],
      "metadata": {
        "colab": {
          "base_uri": "https://localhost:8080/"
        },
        "id": "KFGmpoP2Oj29",
        "outputId": "ecd013b5-3ed3-4e65-f1d1-168d160aaa83"
      },
      "execution_count": 19,
      "outputs": [
        {
          "output_type": "stream",
          "name": "stdout",
          "text": [
            "Enter a number-1\n",
            "The number is negative\n"
          ]
        }
      ]
    },
    {
      "cell_type": "code",
      "source": [
        "# Check whether the given number is divisible by 5\n",
        "we=int(input(\"Enter the number\"))\n",
        "if(we%5==0):\n",
        "  print(\"The number is divisible by 5\")\n",
        "else:\n",
        "  print(\"No it is not divisible by 5\")"
      ],
      "metadata": {
        "colab": {
          "base_uri": "https://localhost:8080/"
        },
        "id": "YKEIAdWZO9Vi",
        "outputId": "85097a58-85a8-4abd-d29d-d68a7fe05320"
      },
      "execution_count": 21,
      "outputs": [
        {
          "output_type": "stream",
          "name": "stdout",
          "text": [
            "Enter the number22\n",
            "No it is not divisible by 5\n"
          ]
        }
      ]
    }
  ]
}