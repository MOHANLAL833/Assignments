{
 "cells": [
  {
   "cell_type": "code",
   "execution_count": null,
   "id": "b8d68568-835b-4dd8-a33b-ed97ce45b6ed",
   "metadata": {},
   "outputs": [],
   "source": [
    "print(\"Welecome to Assignment-1\")"
   ]
  },
  {
   "cell_type": "code",
   "execution_count": null,
   "id": "8872d001-0ac2-41d9-aac8-ed9ff6bcd4fc",
   "metadata": {},
   "outputs": [],
   "source": [
    "num1=10\n",
    "num2=30\n",
    "add=num1+num2\n",
    "print(\"Add=\",add)"
   ]
  },
  {
   "cell_type": "code",
   "execution_count": 17,
   "id": "5b243c8f-f9aa-4fef-a55e-9a9e8e8e755f",
   "metadata": {},
   "outputs": [
    {
     "name": "stdin",
     "output_type": "stream",
     "text": [
      "Enter your BMI Index 30\n"
     ]
    },
    {
     "name": "stdout",
     "output_type": "stream",
     "text": [
      "Obese\n"
     ]
    }
   ],
   "source": [
    "#Body mass Index\n",
    "BMI=int(input(\"Enter your BMI Index\"))\n",
    "if(BMI<18.5):\n",
    "    Print(\"Under Weight\")\n",
    "elif(BMI<25):\n",
    "     print(\"Normal Weight\")\n",
    "elif(BMI<30):\n",
    "        print(\"Over weight\")\n",
    "elif(BMI<35):\n",
    "        print(\"Obese\")\n",
    "elif(BMI>35):\n",
    " print(\"Extreme obese\")"
   ]
  },
  {
   "cell_type": "code",
   "execution_count": null,
   "id": "1d3ff5d0-cb62-4bf8-8d48-d116f1bd8870",
   "metadata": {},
   "outputs": [],
   "source": []
  }
 ],
 "metadata": {
  "kernelspec": {
   "display_name": "Python 3 (ipykernel)",
   "language": "python",
   "name": "python3"
  },
  "language_info": {
   "codemirror_mode": {
    "name": "ipython",
    "version": 3
   },
   "file_extension": ".py",
   "mimetype": "text/x-python",
   "name": "python",
   "nbconvert_exporter": "python",
   "pygments_lexer": "ipython3",
   "version": "3.12.4"
  }
 },
 "nbformat": 4,
 "nbformat_minor": 5
}
