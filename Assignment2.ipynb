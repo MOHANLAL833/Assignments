{
 "cells": [
  {
   "cell_type": "code",
   "execution_count": 1,
   "id": "ddd65d42-8b36-4ce1-9938-899cf108bf34",
   "metadata": {},
   "outputs": [
    {
     "name": "stdout",
     "output_type": "stream",
     "text": [
      "0\n",
      "1\n",
      "2\n",
      "3\n",
      "4\n",
      "5\n",
      "6\n",
      "7\n",
      "8\n",
      "9\n",
      "10\n",
      "11\n",
      "12\n",
      "13\n",
      "14\n",
      "15\n",
      "16\n",
      "17\n",
      "18\n",
      "19\n",
      "20\n"
     ]
    }
   ],
   "source": [
    "#Print 0 to 20 using range\n",
    "for temp in range(0,21):\n",
    "    print(temp)"
   ]
  },
  {
   "cell_type": "code",
   "execution_count": 33,
   "id": "1f5e1a9f-e61e-447b-a523-cd578609144e",
   "metadata": {},
   "outputs": [
    {
     "name": "stdout",
     "output_type": "stream",
     "text": [
      "10 11 12 13 14 15 16 17 18 19 "
     ]
    }
   ],
   "source": [
    "#Print 10 to 20 using range\n",
    "for a in range(10,20):\n",
    "    print (a,end=' ')"
   ]
  },
  {
   "cell_type": "code",
   "execution_count": 5,
   "id": "fc3e9270-7bb2-4f01-8c74-ee8d6d4f67e5",
   "metadata": {},
   "outputs": [
    {
     "name": "stdout",
     "output_type": "stream",
     "text": [
      "Number of item in the list 7\n"
     ]
    }
   ],
   "source": [
    "list=[10,20,14,55,43,87,76]\n",
    "size=len(list)\n",
    "print(\"Number of item in the list\",size)"
   ]
  },
  {
   "cell_type": "code",
   "execution_count": 7,
   "id": "1df8f843-de4a-4a49-95a3-c53a63c949e5",
   "metadata": {},
   "outputs": [
    {
     "name": "stdout",
     "output_type": "stream",
     "text": [
      "Artifical Intelligence\n",
      "A\n",
      "r\n",
      "t\n",
      "i\n",
      "f\n",
      "i\n",
      "c\n",
      "a\n",
      "l\n",
      " \n",
      "I\n",
      "n\n",
      "t\n",
      "e\n",
      "l\n",
      "l\n",
      "i\n",
      "g\n",
      "e\n",
      "n\n",
      "c\n",
      "e\n"
     ]
    }
   ],
   "source": [
    "lis=\"Artifical Intelligence\"\n",
    "print(lis)\n",
    "for r in lis:\n",
    "    print (r)"
   ]
  },
  {
   "cell_type": "code",
   "execution_count": 35,
   "id": "b39170d8-e74c-4766-8ae0-05563e8d934b",
   "metadata": {},
   "outputs": [
    {
     "name": "stdout",
     "output_type": "stream",
     "text": [
      "Your name-\n",
      "Your Age-\n",
      "Your Profession-\n"
     ]
    }
   ],
   "source": [
    "yourlist=[\"Your name-\",\"Your Age-\",\"Your Profession-\"]\n",
    "for are in yourlist:\n",
    "    print(are)"
   ]
  },
  {
   "cell_type": "code",
   "execution_count": 9,
   "id": "d1d325c7-60f9-4bd9-bde4-fa5123ae6c5c",
   "metadata": {},
   "outputs": [
    {
     "name": "stdout",
     "output_type": "stream",
     "text": [
      "(1, 'welcome', 2, 'hope')\n"
     ]
    }
   ],
   "source": [
    "# Print this mixered datatype using Tuples\n",
    "tuple=(1,'welcome',2,'hope')\n",
    "print(tuple)"
   ]
  },
  {
   "cell_type": "code",
   "execution_count": 11,
   "id": "21ccafac-d03e-4a37-bd2d-3e36bd814e61",
   "metadata": {},
   "outputs": [
    {
     "name": "stdout",
     "output_type": "stream",
     "text": [
      "(0, 1, 2, 3, 'python', 'HOPE')\n"
     ]
    }
   ],
   "source": [
    "tu1=(0,1,2,3)\n",
    "tu2=('python','HOPE')\n",
    "t=tu1+tu2\n",
    "print(t)"
   ]
  },
  {
   "cell_type": "code",
   "execution_count": 25,
   "id": "e6af56c5-c8d8-4ccc-ac36-0a32645c1dc2",
   "metadata": {},
   "outputs": [
    {
     "name": "stdout",
     "output_type": "stream",
     "text": [
      "19 is a odd number\n",
      "25 is a odd number\n",
      "1 is a odd number\n"
     ]
    }
   ],
   "source": [
    "# print Odd Numbers in the list\n",
    "nl=(20,10,16,19,25,1,276,188)\n",
    "for i in nl:\n",
    "    if i%2!=0:\n",
    "        print(f\"{i} is a odd number\")"
   ]
  },
  {
   "cell_type": "code",
   "execution_count": 31,
   "id": "d2bd9c5a-e6e3-42a6-9ae4-d51a8936cea3",
   "metadata": {},
   "outputs": [
    {
     "name": "stdout",
     "output_type": "stream",
     "text": [
      "20 is a even number\n",
      "10 is a even number\n",
      "16 is a even number\n",
      "276 is a even number\n",
      "188 is a even number\n"
     ]
    }
   ],
   "source": [
    " # print Even numbers in the list\n",
    "n2=(20,10,16,19,25,1,276,188)\n",
    "for i in nl:\n",
    "    if i%2==0:\n",
    "        print(f\"{i} is a even number\")"
   ]
  },
  {
   "cell_type": "code",
   "execution_count": null,
   "id": "f049b3ef-666f-4a11-be5c-88c08643ab78",
   "metadata": {},
   "outputs": [],
   "source": []
  }
 ],
 "metadata": {
  "kernelspec": {
   "display_name": "Python 3 (ipykernel)",
   "language": "python",
   "name": "python3"
  },
  "language_info": {
   "codemirror_mode": {
    "name": "ipython",
    "version": 3
   },
   "file_extension": ".py",
   "mimetype": "text/x-python",
   "name": "python",
   "nbconvert_exporter": "python",
   "pygments_lexer": "ipython3",
   "version": "3.12.4"
  }
 },
 "nbformat": 4,
 "nbformat_minor": 5
}
