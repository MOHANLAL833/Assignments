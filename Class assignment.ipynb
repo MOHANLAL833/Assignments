{
 "cells": [
  {
   "cell_type": "code",
   "execution_count": null,
   "id": "f3be04fe-b0e4-41d6-b5bf-58d50af1b689",
   "metadata": {},
   "outputs": [],
   "source": [
    " # Create a class and function, and list out the items in the list\n",
    "class subfieldsinAI():\n",
    "    def subfields():\n",
    "        print(\"The sub fields in AI are\")\n",
    "        list=[\"Machine Learning\",\"Neural Networks\",\"Vision\",\"Robotics\",\"Speech Processing\",\"Natural Language Processing\"]\n",
    "        for i in list:\n",
    "            print (i)"
   ]
  },
  {
   "cell_type": "code",
   "execution_count": null,
   "id": "df9d8f65-c288-4427-90ec-45cff83d33b3",
   "metadata": {},
   "outputs": [],
   "source": [
    "subfieldsinAI.subfields()"
   ]
  },
  {
   "cell_type": "code",
   "execution_count": null,
   "id": "7049a4f8-0c64-472d-900c-991234bde757",
   "metadata": {},
   "outputs": [],
   "source": [
    "# Create a function that checks whether the given number is Odd or Even\n",
    "class oddeven():\n",
    "    def oddeven():\n",
    "        io=int(input(\"Enter the number\"))\n",
    "        if io%2==0:\n",
    "            print(f\"{io} is even\")\n",
    "            mess=\"even\"\n",
    "        else:\n",
    "            print(f\"{io} is odd\")\n",
    "            mess=\"odd\"\n",
    "            return mess"
   ]
  },
  {
   "cell_type": "code",
   "execution_count": null,
   "id": "f0e45bfd-aed5-4de5-bd93-1ef112c78693",
   "metadata": {},
   "outputs": [],
   "source": [
    "oddeven.oddeven()"
   ]
  },
  {
   "cell_type": "code",
   "execution_count": 7,
   "id": "97bcbeb2-77e6-4d01-9850-4fe243a6878d",
   "metadata": {},
   "outputs": [],
   "source": [
    "# Create a function that tells elegibility of marriage for male and female according to their age limit like 21 for male and 18 for female\n",
    "class eligible():\n",
    "    def marriage():\n",
    "        gender=input(\"Enter your Gender\")\n",
    "        age=int(input(\"Enter your age\"))\n",
    "        if gender==\"Male\":\n",
    "            if age>21:\n",
    "                print(\"You are eligible for marriage\")\n",
    "                mar=\"Eligible\"\n",
    "            else:\n",
    "                print(\"you are not eligible for marriage\")\n",
    "                mar=\"not eligible\"\n",
    "        elif(gender==\"Female\"):\n",
    "            if age>18:\n",
    "                 print(\"You are eligible for marriage\")\n",
    "                 mar=\"Eligible\"\n",
    "            else:\n",
    "                print(\"you are not eligible for marriage\")\n",
    "                mar=\"not eligible\"\n",
    "            return mar"
   ]
  },
  {
   "cell_type": "code",
   "execution_count": 9,
   "id": "0a893656-a957-4c0d-8bf5-9c0280f7bab7",
   "metadata": {},
   "outputs": [
    {
     "name": "stdin",
     "output_type": "stream",
     "text": [
      "Enter your Gender Male\n",
      "Enter your age 16\n"
     ]
    },
    {
     "name": "stdout",
     "output_type": "stream",
     "text": [
      "you are not eligible for marriage\n"
     ]
    }
   ],
   "source": [
    "eligible.marriage()"
   ]
  },
  {
   "cell_type": "code",
   "execution_count": 13,
   "id": "5cd5e33a-2199-40f4-9ffb-7e4422b4db55",
   "metadata": {},
   "outputs": [],
   "source": [
    "class totalpercent():\n",
    "    def percent():\n",
    "        sub1=int(input(\"Subject1:\"))\n",
    "        sub2=int(input(\"Subject2:\"))\n",
    "        sub3=int(input(\"Subject3:\"))\n",
    "        sub4=int(input(\"Subject4:\"))\n",
    "        sub5=int(input(\"Subject5:\"))\n",
    "        total=sub1+sub2+sub3+sub4+sub5\n",
    "        percentage=total/5\n",
    "        print(\"Total\",total)\n",
    "        print(\"Percentage\",percentage)"
   ]
  },
  {
   "cell_type": "code",
   "execution_count": 15,
   "id": "689549db-764b-418f-a287-aca2b2df9ef7",
   "metadata": {},
   "outputs": [
    {
     "name": "stdin",
     "output_type": "stream",
     "text": [
      "Subject1: 99\n",
      "Subject2: 69\n",
      "Subject3: 78\n",
      "Subject4: 78\n",
      "Subject5: 99\n"
     ]
    },
    {
     "name": "stdout",
     "output_type": "stream",
     "text": [
      "Total 423\n",
      "Percentage 84.6\n"
     ]
    }
   ],
   "source": [
    "totalpercent.percent()"
   ]
  },
  {
   "cell_type": "code",
   "execution_count": 23,
   "id": "27550ef9-fbbc-4660-b651-95adba38d87f",
   "metadata": {},
   "outputs": [],
   "source": [
    "class triangle():\n",
    "    def area():\n",
    "        height=int(input(\"Height:\"))\n",
    "        breadth=int(input(\"breadth:\"))\n",
    "        print(\"Area formula: (Height*Breadth)/2\")\n",
    "        area=(height*breadth)/2\n",
    "        print(\"Area of Area of Triangle:\",area)\n",
    "        return area\n",
    "    def perimeter():\n",
    "        height1=int(input(\"Height1:\"))\n",
    "        height2=int(input(\"Height2:\"))\n",
    "        breadth=int(input(\"Breadth:\"))\n",
    "        print(\"Perimeter formula: Height1+Height2+Breadth\")\n",
    "        perimeter=height1+height2+breadth\n",
    "        print(\"Perimeter of Triangle:\",perimeter)\n",
    "        return perimeter"
   ]
  },
  {
   "cell_type": "code",
   "execution_count": 19,
   "id": "e6b6b475-371f-419a-aae4-fce9c2cca9b4",
   "metadata": {},
   "outputs": [
    {
     "name": "stdin",
     "output_type": "stream",
     "text": [
      "Height: 10\n",
      "breadth: 20\n"
     ]
    },
    {
     "name": "stdout",
     "output_type": "stream",
     "text": [
      "Area formula: (Height*Breadth)/2\n",
      "Area of Area of Triangle: 100.0\n"
     ]
    },
    {
     "data": {
      "text/plain": [
       "100.0"
      ]
     },
     "execution_count": 19,
     "metadata": {},
     "output_type": "execute_result"
    }
   ],
   "source": [
    "triangle.area()"
   ]
  },
  {
   "cell_type": "code",
   "execution_count": 25,
   "id": "8265b513-c621-4611-9d47-9e06af01116e",
   "metadata": {},
   "outputs": [
    {
     "name": "stdin",
     "output_type": "stream",
     "text": [
      "Height1: 10\n",
      "Height2: 10\n",
      "Breadth: 10\n"
     ]
    },
    {
     "name": "stdout",
     "output_type": "stream",
     "text": [
      "Perimeter formula: Height1+Height2+Breadth\n",
      "Perimeter of Triangle: 30\n"
     ]
    },
    {
     "data": {
      "text/plain": [
       "30"
      ]
     },
     "execution_count": 25,
     "metadata": {},
     "output_type": "execute_result"
    }
   ],
   "source": [
    "triangle.perimeter()"
   ]
  },
  {
   "cell_type": "code",
   "execution_count": null,
   "id": "e4448cb4-920c-4a32-892b-b98a61281d52",
   "metadata": {},
   "outputs": [],
   "source": []
  }
 ],
 "metadata": {
  "kernelspec": {
   "display_name": "Python 3 (ipykernel)",
   "language": "python",
   "name": "python3"
  },
  "language_info": {
   "codemirror_mode": {
    "name": "ipython",
    "version": 3
   },
   "file_extension": ".py",
   "mimetype": "text/x-python",
   "name": "python",
   "nbconvert_exporter": "python",
   "pygments_lexer": "ipython3",
   "version": "3.12.4"
  }
 },
 "nbformat": 4,
 "nbformat_minor": 5
}
