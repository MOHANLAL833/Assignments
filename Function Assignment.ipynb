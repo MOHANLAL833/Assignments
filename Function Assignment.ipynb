{
 "cells": [
  {
   "cell_type": "code",
   "execution_count": 1,
   "id": "ea2461a2-8088-4df1-8042-2f1b0fb23343",
   "metadata": {},
   "outputs": [],
   "source": [
    " # Create a class and function, and list out the items in the list\n",
    "def subfields():\n",
    "    print(\"The sub fields in AI are\")\n",
    "    list=[\"Machine Learning\",\"Neural Networks\",\"Vision\",\"Robotics\",\"Speech Processing\",\"Natural Language Processing\"]\n",
    "    for i in list:\n",
    "        print (i)"
   ]
  },
  {
   "cell_type": "code",
   "execution_count": 3,
   "id": "0d89ddf5-dbac-4a58-9d83-eefc2092cd67",
   "metadata": {},
   "outputs": [
    {
     "name": "stdout",
     "output_type": "stream",
     "text": [
      "The sub fields in AI are\n",
      "Machine Learning\n",
      "Neural Networks\n",
      "Vision\n",
      "Robotics\n",
      "Speech Processing\n",
      "Natural Language Processing\n"
     ]
    }
   ],
   "source": [
    "subfields()"
   ]
  },
  {
   "cell_type": "code",
   "execution_count": 29,
   "id": "ef8e5f05-f4aa-433d-a876-562a2afa058d",
   "metadata": {},
   "outputs": [],
   "source": [
    "# Create a function that checks whether the given number is Odd or Even\n",
    "def oddeven():\n",
    "    io=int(input(\"Enter the number\"))\n",
    "    if io%2==0:\n",
    "        print(f\"{io} is even\")\n",
    "        mess=\"even\"\n",
    "    else:\n",
    "        print(f\"{io} is odd\")\n",
    "        mess=\"odd\"\n",
    "        return mess"
   ]
  },
  {
   "cell_type": "code",
   "execution_count": 31,
   "id": "7e087ede-5be2-4513-92b7-3e40781fb2b5",
   "metadata": {},
   "outputs": [
    {
     "name": "stdin",
     "output_type": "stream",
     "text": [
      "Enter the number 243511\n"
     ]
    },
    {
     "name": "stdout",
     "output_type": "stream",
     "text": [
      "243511 is odd\n"
     ]
    },
    {
     "data": {
      "text/plain": [
       "'odd'"
      ]
     },
     "execution_count": 31,
     "metadata": {},
     "output_type": "execute_result"
    }
   ],
   "source": [
    "oddeven()"
   ]
  },
  {
   "cell_type": "code",
   "execution_count": 38,
   "id": "56c8525e-15f3-4d24-95fa-8f667233a5e8",
   "metadata": {},
   "outputs": [],
   "source": [
    " # Create a function that tells elegibility of marriage for male and female according to their age limit like 21 for male and 18 for female\n",
    "\n",
    "def marriage():\n",
    "    gender=input(\"Enter your Gender\")\n",
    "    age=int(input(\"Enter your age\"))\n",
    "    if gender==\"Male\":\n",
    "        if age>21:\n",
    "            print(\"You are eligible for marriage\")\n",
    "            mar=\"Eligible\"\n",
    "        else:\n",
    "            print(\"you are not eligible for marriage\")\n",
    "            mar=\"not eligible\"\n",
    "    elif(gender==\"Female\"):\n",
    "        if age>18:\n",
    "             print(\"You are eligible for marriage\")\n",
    "             mar=\"Eligible\"\n",
    "        else:\n",
    "            print(\"you are not eligible for marriage\")\n",
    "            mar=\"not eligible\"\n",
    "        return mar\n",
    "            \n",
    "            \n",
    "    "
   ]
  },
  {
   "cell_type": "code",
   "execution_count": 44,
   "id": "6300e0b1-0ba4-4fae-8c3d-61bb065bbb7c",
   "metadata": {},
   "outputs": [
    {
     "name": "stdin",
     "output_type": "stream",
     "text": [
      "Enter your Gender Male\n",
      "Enter your age 35\n"
     ]
    },
    {
     "name": "stdout",
     "output_type": "stream",
     "text": [
      "You are eligible for marriage\n"
     ]
    }
   ],
   "source": [
    "marriage()"
   ]
  },
  {
   "cell_type": "code",
   "execution_count": 42,
   "id": "1f5a128a-722d-4acd-93cf-840a8971fb33",
   "metadata": {},
   "outputs": [
    {
     "name": "stdin",
     "output_type": "stream",
     "text": [
      "Enter your Gender Female\n",
      "Enter your age 17\n"
     ]
    },
    {
     "name": "stdout",
     "output_type": "stream",
     "text": [
      "you are not eligible for marriage\n"
     ]
    },
    {
     "data": {
      "text/plain": [
       "'not eligible'"
      ]
     },
     "execution_count": 42,
     "metadata": {},
     "output_type": "execute_result"
    }
   ],
   "source": [
    "marriage()"
   ]
  },
  {
   "cell_type": "code",
   "execution_count": 56,
   "id": "da69db3b-7de6-4bdf-9a3a-9f3940973cb2",
   "metadata": {},
   "outputs": [],
   "source": [
    "# calculate the percentage of your 10th mark\n",
    "def percent():\n",
    "    sub1=int(input(\"Subject1:\"))\n",
    "    sub2=int(input(\"Subject2:\"))\n",
    "    sub3=int(input(\"Subject3:\"))\n",
    "    sub4=int(input(\"Subject4:\"))\n",
    "    sub5=int(input(\"Subject5:\"))\n",
    "    total=sub1+sub2+sub3+sub4+sub5\n",
    "    percentage=total/5\n",
    "    print(\"Total\",total)\n",
    "    print(\"Percentage\",percentage)"
   ]
  },
  {
   "cell_type": "code",
   "execution_count": 58,
   "id": "3d955f42-8fb5-433d-80c0-07c4ff359eaa",
   "metadata": {},
   "outputs": [
    {
     "name": "stdin",
     "output_type": "stream",
     "text": [
      "Subject1: 94\n",
      "Subject2: 99\n",
      "Subject3: 89\n",
      "Subject4: 93\n",
      "Subject5: 100\n"
     ]
    },
    {
     "name": "stdout",
     "output_type": "stream",
     "text": [
      "Total 475\n",
      "Percentage 95.0\n"
     ]
    }
   ],
   "source": [
    "percent()"
   ]
  },
  {
   "cell_type": "code",
   "execution_count": 70,
   "id": "5a76b183-5be9-4643-9492-19d4d539f23e",
   "metadata": {},
   "outputs": [],
   "source": [
    "#print area and perimeter of triangle using class and functions\n",
    "def area():\n",
    "    height=int(input(\"Height:\"))\n",
    "    breadth=int(input(\"breadth:\"))\n",
    "    print(\"Area formula: (Height*Breadth)/2\")\n",
    "    area=(height*breadth)/2\n",
    "    print(\"Area of Area of Triangle:\",area)\n",
    "    return area\n",
    "def perimeter():\n",
    "    height1=int(input(\"Height1:\"))\n",
    "    height2=int(input(\"Height2:\"))\n",
    "    breadth=int(input(\"Height:\"))\n",
    "    print(\"Perimeter formula: Height1+Height2+Breadth\")\n",
    "    perimeter=height1+height2+breadth\n",
    "    print(\"Perimeter of Triangle:\",perimeter)\n",
    "    return perimeter"
   ]
  },
  {
   "cell_type": "code",
   "execution_count": 62,
   "id": "a2c78146-80d4-4337-8135-251516814d10",
   "metadata": {},
   "outputs": [
    {
     "name": "stdin",
     "output_type": "stream",
     "text": [
      "Height: 100\n",
      "breadth: 200\n"
     ]
    },
    {
     "name": "stdout",
     "output_type": "stream",
     "text": [
      "Area formula: (Height*Breadth)/2\n",
      "Area of Area of Triangle: 10000.0\n"
     ]
    },
    {
     "data": {
      "text/plain": [
       "10000.0"
      ]
     },
     "execution_count": 62,
     "metadata": {},
     "output_type": "execute_result"
    }
   ],
   "source": [
    "area()"
   ]
  },
  {
   "cell_type": "code",
   "execution_count": 72,
   "id": "e7064b01-c82a-4ad4-93d4-5173940d5b55",
   "metadata": {},
   "outputs": [
    {
     "name": "stdin",
     "output_type": "stream",
     "text": [
      "Height1: 10\n",
      "Height2: 10\n",
      "Height: 10\n"
     ]
    },
    {
     "name": "stdout",
     "output_type": "stream",
     "text": [
      "Perimeter formula: Height1+Height2+Breadth\n",
      "Perimeter of Triangle: 30\n"
     ]
    },
    {
     "data": {
      "text/plain": [
       "30"
      ]
     },
     "execution_count": 72,
     "metadata": {},
     "output_type": "execute_result"
    }
   ],
   "source": [
    "perimeter()"
   ]
  },
  {
   "cell_type": "code",
   "execution_count": null,
   "id": "75335680-d843-47c1-af8e-7280609e10a7",
   "metadata": {},
   "outputs": [],
   "source": []
  }
 ],
 "metadata": {
  "kernelspec": {
   "display_name": "Python 3 (ipykernel)",
   "language": "python",
   "name": "python3"
  },
  "language_info": {
   "codemirror_mode": {
    "name": "ipython",
    "version": 3
   },
   "file_extension": ".py",
   "mimetype": "text/x-python",
   "name": "python",
   "nbconvert_exporter": "python",
   "pygments_lexer": "ipython3",
   "version": "3.12.4"
  }
 },
 "nbformat": 4,
 "nbformat_minor": 5
}
